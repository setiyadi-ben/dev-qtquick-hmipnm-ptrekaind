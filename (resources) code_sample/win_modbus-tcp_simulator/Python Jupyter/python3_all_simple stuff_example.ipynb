{
 "cells": [
  {
   "cell_type": "markdown",
   "id": "5ea63693",
   "metadata": {},
   "source": [
    "# Generate multiple list randomnumber generator"
   ]
  },
  {
   "cell_type": "code",
   "execution_count": null,
   "id": "4bf4f61c",
   "metadata": {},
   "outputs": [],
   "source": [
    "# https://www.youtube.com/watch?v=Uo2p3znYhig\n",
    "import random\n",
    "\n",
    "def randomNumberList(no, start, end):\n",
    "    results = []\n",
    "    \n",
    "    for i in range(no):\n",
    "        temp = random.randint(start, end+1)\n",
    "        results.append(temp)\n",
    "    return results\n",
    "\n",
    "no = int(input('Berapa banyak number yang ingin digenerate dalam list '))\n",
    "start = int(input('Start range '))\n",
    "end = int(input('Stop range di '))\n",
    "\n",
    "print(randomNumberList(no, start, end))"
   ]
  },
  {
   "cell_type": "markdown",
   "id": "c867ecae",
   "metadata": {},
   "source": [
    "# For in Range example"
   ]
  },
  {
   "cell_type": "code",
   "execution_count": null,
   "id": "b97d9e2a",
   "metadata": {},
   "outputs": [],
   "source": [
    "for a in range(1,10):\n",
    "      print(a)\n",
    "for b in range(9,0,-1):\n",
    "      print(b)"
   ]
  }
 ],
 "metadata": {
  "kernelspec": {
   "display_name": "Python 3 (ipykernel)",
   "language": "python",
   "name": "python3"
  },
  "language_info": {
   "codemirror_mode": {
    "name": "ipython",
    "version": 3
   },
   "file_extension": ".py",
   "mimetype": "text/x-python",
   "name": "python",
   "nbconvert_exporter": "python",
   "pygments_lexer": "ipython3",
   "version": "3.10.4"
  }
 },
 "nbformat": 4,
 "nbformat_minor": 5
}
