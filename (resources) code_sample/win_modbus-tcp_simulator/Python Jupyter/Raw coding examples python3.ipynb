{
 "cells": [
  {
   "cell_type": "code",
   "execution_count": 190,
   "id": "72d60c99",
   "metadata": {},
   "outputs": [
    {
     "data": {
      "text/plain": [
       "{'Tegangan AC': [288],\n",
       " 'Tegangan DC': [353],\n",
       " 'Arus AC': [421],\n",
       " 'Arus DC': [225]}"
      ]
     },
     "execution_count": 190,
     "metadata": {},
     "output_type": "execute_result"
    }
   ],
   "source": [
    "import random\n",
    "sensorName = ['Tegangan AC', 'Tegangan DC', 'Arus AC', 'Arus DC']\n",
    "sensorValue = [[random.randint(220,440) for i in range (1)] for j in range(4)]\n",
    "merge2dict = {}\n",
    "for i, j in zip(sensorName, sensorValue):\n",
    "    merge2dict [i] = j\n",
    "randomSensor = merge2dict\n",
    "separator = \"\"\n",
    "separator.join(map(str, randomSensor))\n",
    "randomSensor\n",
    "# randomSensor['Tegangan AC']"
   ]
  },
  {
   "cell_type": "code",
   "execution_count": 191,
   "id": "62f0a58c",
   "metadata": {},
   "outputs": [
    {
     "ename": "IndentationError",
     "evalue": "unexpected indent (94783861.py, line 51)",
     "output_type": "error",
     "traceback": [
      "\u001b[1;36m  Input \u001b[1;32mIn [191]\u001b[1;36m\u001b[0m\n\u001b[1;33m    @Slot(str)\u001b[0m\n\u001b[1;37m    ^\u001b[0m\n\u001b[1;31mIndentationError\u001b[0m\u001b[1;31m:\u001b[0m unexpected indent\n"
     ]
    }
   ],
   "source": [
    "import os\n",
    "import threading\n",
    "from pathlib import Path\n",
    "import sys\n",
    "\n",
    "# library untuk backend to QML\n",
    "from PySide2.QtCore import QObject, Slot, Signal\n",
    "from PySide2.QtGui import QGuiApplication\n",
    "from PySide2.QtQml import QQmlApplicationEngine\n",
    "\n",
    "# Library untuk randomNumber generator dan json\n",
    "import random\n",
    "import json\n",
    "\n",
    "# # library untuk simulasi modbus trial (diagslave)\n",
    "# from pymodbus.client.sync import ModbusTcpClient\n",
    "# from datetime import datetime, time\n",
    "# import time\n",
    "\n",
    "class mainWindow(QObject):\n",
    "    def __init__(self):\n",
    "        QObject.__init__(self)\n",
    "\n",
    "    # Signal Set Name\n",
    "    setGensetButton = Signal(str) # konektor On / Off pushbutton genset\n",
    "    setHsbcButton = Signal(str) # konektor On / Off pushbutton genset\n",
    "    setSensorValue = Signal(str) # konektor nilai sensor dg randomnumber\n",
    "\n",
    "    # Function Set Active Name To Label\n",
    "    @Slot(str)\n",
    "    def gensetActive(self, genset):\n",
    "        self.setGensetButton.emit(\"Genset Powered\")\n",
    "    def hsbcActive(self, hsbc):\n",
    "        self.setHsbcButton.emit(\"Close\")\n",
    "\n",
    "    # Function Set Disabled Name To Label\n",
    "    @Slot(str)\n",
    "    def gensetInactive(self, genset):\n",
    "        self.setGensetButton.emit(\"PLN Powered\")\n",
    "    def hsbcInactive(self, hsbc):\n",
    "        self.setHsbcButton.emit(\"Open\")\n",
    "        \n",
    "sensorName = ['Tegangan AC', 'Tegangan DC', 'Arus AC', 'Arus DC']\n",
    "sensorValue = [[random.randint(220,440) for i in range (1)] for j in range(4)]\n",
    "merge2dict = {}\n",
    "for i, j in zip(sensorName, sensorValue):\n",
    "    merge2dict [i] = j\n",
    "randomSensor = merge2dict\n",
    "    \n",
    "    # Function Set RandomGenerator\n",
    "    @Slot(str)\n",
    "    def teganganAc(self, acv):\n",
    "        print(type(randomSensor))\n",
    "        self.setSensorValue.emit(randomSensor['Tegangan AC'])\n",
    "        @Slot(str)\n",
    "    def teganganDc(self, dcv):\n",
    "        print(type(randomSensor))\n",
    "        self.setSensorValue.emit(randomSensor['Tegangan DC'])\n",
    "        @Slot(str)\n",
    "    def arusAc(self, acc):\n",
    "        print(type(randomSensor))\n",
    "        self.setSensorValue.emit(randomSensor['Arus AC'])\n",
    "        @Slot(str)\n",
    "    def arusDc(self, dcc):\n",
    "        print(type(randomSensor))\n",
    "        self.setSensorValue.emit(randomSensor['Arus DC'])\n",
    "        \n",
    "\n",
    "\n",
    "\n",
    "# Perintah untuk mengambil data dari server modbus diagslave\n",
    "#    def ReadingModbusSequence():\n",
    "#        host = '127.0.0.1'   #ip of your raspberry pi\n",
    "#        port = 502\n",
    "#        client = ModbusTcpClient(host, port)\n",
    "#        while True:\n",
    "#            client.connect()\n",
    "#            rr = client.read_holding_registers(1000,1,unit=1)\n",
    "#            data = {\n",
    "# #                \"datetime\": mainWindow.current_time(),\n",
    "#                \"data\": rr.registers    # register will return a list. To query individual register specify the array item e.g. registers[0] to get value from first register\n",
    "                 \n",
    "#                }\n",
    "#            print(json.dumps(data))\n",
    "#            time.sleep(2)\n",
    "    \n",
    "\n",
    "if __name__ == \"__main__\":\n",
    "    app = QGuiApplication(sys.argv)\n",
    "    engine = QQmlApplicationEngine()\n",
    "    \n",
    "    # Get Context\n",
    "    main = mainWindow()\n",
    "    engine.rootContext().setContextProperty(\"backend\", main)\n",
    "\n",
    "    # Load QML File\n",
    "    engine.load(os.fspath(Path(__file__).resolve().parent / \"main.qml\"))\n",
    "    \n",
    "#    # Listing Threads\n",
    "# # Thread untuk membaca nilai modbus\n",
    "#    mainWindow.task1 = threading.Thread(target= mainWindow.ReadingModbusSequence, name='task1')\n",
    "    \n",
    "#    # Starting Threads\n",
    "#    mainWindow.task1.start()\n",
    "\n",
    "    if not engine.rootObjects():\n",
    "        sys.exit(-1)\n",
    "    sys.exit(app.exec_())\n"
   ]
  },
  {
   "cell_type": "code",
   "execution_count": 192,
   "id": "220c7118",
   "metadata": {},
   "outputs": [
    {
     "name": "stdout",
     "output_type": "stream",
     "text": [
      "<Response [501]>\n",
      "<!DOCTYPE HTML PUBLIC \"-//W3C//DTD HTML 4.01//EN\"\n",
      "        \"http://www.w3.org/TR/html4/strict.dtd\">\n",
      "<html>\n",
      "    <head>\n",
      "        <meta http-equiv=\"Content-Type\" content=\"text/html;charset=utf-8\">\n",
      "        <title>Error response</title>\n",
      "    </head>\n",
      "    <body>\n",
      "        <h1>Error response</h1>\n",
      "        <p>Error code: 501</p>\n",
      "        <p>Message: Unsupported method ('POST').</p>\n",
      "        <p>Error code explanation: HTTPStatus.NOT_IMPLEMENTED - Server does not support this operation.</p>\n",
      "    </body>\n",
      "</html>\n",
      "\n"
     ]
    }
   ],
   "source": [
    "import random\n",
    "from pymodbus.client.sync import ModbusTcpClient\n",
    "from datetime import datetime, time\n",
    "import time\n",
    "\n",
    "separator = \",\" # Untuk memisahkan memisahkan square brakets dalam random generator lists\n",
    "#list1\n",
    "option1 = [random.randint(220, 350) for i in range (1) for j in range(2)]\n",
    "separator.join(map(str, option1))\n",
    "#list2\n",
    "option2 = random.sample(range(0, 50), 2) #[random.randint(0, 50) for i in range (1) for j in range(2)]\n",
    "test = separator.join(map(str, option2))\n",
    "# option3 = random.sample(range(1, 4), 1)\n",
    "option1.append(option2) # Menggabung nilai random generator di option1 dan option2\n",
    "\n",
    "# print(test) # output tanpa square brakets di option2\n",
    "# print(option1) # output gabungan antara option 1 dan option 2\n",
    "\n",
    "#print(\"\".join(int(i) for i in option1))\n",
    "\n",
    "# option1, option2, # option3\n",
    "\n",
    "# NOte: Saya sudah usahakan selama 6 hari++ untuk debugging dan mencari seluruh jawaban\n",
    "# di forum manapun yang membahas tentang modbus untuk mengirimkan data berupa lists\n",
    "# random generator entah itu dalam bentuk string, json ataupun int sendiri. dan saat\n",
    "# dikirimkan dgn perintah dibawah inipun pada sisi penerima hanya dapat menerima data \n",
    "# dalam bentuk int dengan output tunggal saja dan tidak solved masalahnya.\n",
    "\n",
    "# host = '127.0.0.1'  #ip localhost\n",
    "# port = 502\n",
    "# client = ModbusTcpClient(host, port)\n",
    "# while True:\n",
    "#     client.connect()\n",
    "#     data = option2\n",
    "\n",
    "# # To Write values to multiple registers\n",
    "#     # list = []\n",
    "#     # for i in range(10):\n",
    "#     #     data = random.randint(25,35)\n",
    "#     #     list.append(data)\n",
    "\n",
    "#     wr = client.write_registers(1000,data,unit=1)\n",
    "#     # write to multiple registers using list of data\n",
    "#     # wr = client.write_registers(1000,list,unit=1)\n",
    "#     time.sleep(2)\n",
    "\n",
    "# Sebagai alternatif, Saya gunakan data dgn format json dan dikirim dengan metode rest\n",
    "# API, ini untuk memudahkan saja untuk simulasi dengan penggambaran datanya dapat dikirimkan\n",
    "# melalui koneksi internet.\n",
    "\n",
    "import requests\n",
    "import http.server\n",
    "import json\n",
    "\n",
    "# https://www.youtube.com/watch?v=EjwgxlIEjuI\n",
    "sensorName = ['Tegangan AC', 'Tegangan DC', 'Arus AC', 'Arus DC']\n",
    "sensorValue = [[random.randint(220,440) for i in range (1)] for j in range(4)]\n",
    "merge2dict = {}\n",
    "for i, j in zip(sensorName, sensorValue):\n",
    "    merge2dict [i] = j\n",
    "data = merge2dict    \n",
    "jsonResult = json.dumps(data) # https://www.youtube.com/watch?v=9N6a-VLBa2I\n",
    "jsonResult\n",
    "\n",
    "\n",
    "# untuk emulator server bisa gunakan kode : python -m http.server 8080, gunakan\n",
    "# response = requests.post('127.0.0.1:8080', json = json.dumps(data))\n",
    "response = requests.post('http://127.0.0.1:8080', json = jsonResult)\n",
    "print(response)\n",
    "print(response.text)\n",
    "\n",
    "# Kesimpulan, untuk simulasi data transfer masih belum bisa mengikuti goal yang diinginkan\n",
    "# berupa mengirim list data entah itu berupa string json ataupun int (integer) yang dapat\n",
    "# menghasilkan output multiple, misalkan : (220, 350, 45, 50) akan dibaca sama juga di readingnya.\n",
    "# Namun, ini tidak terjadi dan hanya menghasilkan satu keluaran saja misal (220). \n"
   ]
  },
  {
   "cell_type": "code",
   "execution_count": 157,
   "id": "ae8b2e26",
   "metadata": {},
   "outputs": [
    {
     "ename": "SyntaxError",
     "evalue": "Missing parentheses in call to 'print'. Did you mean print(...)? (10487.py, line 85)",
     "output_type": "error",
     "traceback": [
      "\u001b[1;36m  Input \u001b[1;32mIn [157]\u001b[1;36m\u001b[0m\n\u001b[1;33m    print sys.exc_info()\u001b[0m\n\u001b[1;37m    ^\u001b[0m\n\u001b[1;31mSyntaxError\u001b[0m\u001b[1;31m:\u001b[0m Missing parentheses in call to 'print'. Did you mean print(...)?\n"
     ]
    }
   ],
   "source": [
    "#!/usr/bin/env python\n",
    "\n",
    "# Basic REST Server for prototyping\n",
    "\n",
    "import sys, cgi, BaseHTTPServer, mimetypes\n",
    "\n",
    "# Port to listen on\n",
    "PORT = 8000\n",
    "\n",
    "# List of endpoints\n",
    "class endpoint:\n",
    "    mimetype = \"\"\n",
    "    content = \"\"\n",
    "    def __init__(self,mimetype,content):\n",
    "        self.mimetype = mimetype\n",
    "        self.content = content\n",
    "    \n",
    "endpoints = {}\n",
    "\n",
    "# The REST handler\n",
    "class REST(BaseHTTPServer.BaseHTTPRequestHandler):\n",
    "\n",
    "    def do_OPTIONS(self):\n",
    "        self.send_response(200)\n",
    "        self.send_header(\"Access-Control-Allow-Origin\",\"*\")\n",
    "        self.send_header(\"Access-Control-Allow-Methods\",\"*\")\n",
    "        self.send_header(\"Access-Control-Allow-Headers\",\"*\")\n",
    "        self.end_headers()\n",
    "\n",
    "    def do_HEAD(self):\n",
    "        self.send_response(200)\n",
    "        self.send_header(\"Access-Control-Allow-Origin\",\"*\")\n",
    "        self.send_header(\"Access-Control-Allow-Methods\",\"*\")\n",
    "        self.send_header(\"Access-Control-Allow-Headers\",\"*\")\n",
    "        self.end_headers()\n",
    "\n",
    "    def do_GET(self):\n",
    "        self.path = self.path.split(\"?\",1)[0]\n",
    "        if self.path in endpoints:\n",
    "            ep = endpoints[self.path]\n",
    "            self.send_response(200)\n",
    "            self.send_header(\"Access-Control-Allow-Origin\",\"*\")\n",
    "            self.send_header(\"Access-Control-Allow-Methods\",\"*\")\n",
    "            self.send_header(\"Access-Control-Allow-Headers\",\"*\")\n",
    "            self.send_header(\"Content-Type\", ep.mimetype)\n",
    "            self.end_headers()\n",
    "            self.wfile.write(ep.content)\n",
    "\n",
    "        else:\n",
    "            self.send_response(200)\n",
    "            self.send_header(\"Access-Control-Allow-Origin\",\"*\")\n",
    "            self.send_header(\"Access-Control-Allow-Methods\",\"*\")\n",
    "            self.send_header(\"Access-Control-Allow-Headers\",\"*\")\n",
    "            self.send_header(\"Content-Type\", \"text/html\")\n",
    "            self.end_headers()\n",
    "            self.wfile.write(\"\"\"<html>\n",
    "<body>\n",
    "<form method=\"post\" enctype=\"multipart/form-data\" action=\"\"\")\n",
    "            self.wfile.write('\"'+self.path+'\"')\n",
    "            self.wfile.write(\"\"\">\n",
    "<input type=\"file\" name=\"upload\"/><input type=\"submit\" value=\"Submit\">\n",
    "</form>\n",
    "</body>\n",
    "</html>\"\"\")\n",
    "\n",
    "    def do_POST(self):\n",
    "        self.path = self.path.split(\"?\",1)[0]\n",
    "        try:\n",
    "            ctype, pdict = cgi.parse_header(self.headers.getheader('content-type'))\n",
    "            form = cgi.FieldStorage( fp=self.rfile, headers=self.headers, environ={'REQUEST_METHOD':'POST', 'CONTENT_TYPE':self.headers['Content-Type'], })\n",
    "            content = form['upload'].file.read()\n",
    "            filename = form['upload'].filename\n",
    "\n",
    "            mt = mimetypes.guess_type(form[\"upload\"].filename)[0] or \"application/octet-stream\"\n",
    "            endpoints[self.path] = endpoint(mt,content)\n",
    "\n",
    "            self.send_response(200)\n",
    "            self.send_header(\"Access-Control-Allow-Origin\",\"*\")\n",
    "            self.send_header(\"Access-Control-Allow-Methods\",\"*\")\n",
    "            self.send_header(\"Access-Control-Allow-Headers\",\"*\")\n",
    "            self.send_header(\"Content-Type\",mt)\n",
    "            self.end_headers()\n",
    "            self.wfile.write(content)\n",
    "        except Exception as e:\n",
    "            print sys.exc_info()\n",
    "            self.send_response(500)\n",
    "            self.send_header(\"Access-Control-Allow-Origin\",\"*\")\n",
    "            self.send_header(\"Access-Control-Allow-Methods\",\"*\")\n",
    "            self.send_header(\"Access-Control-Allow-Headers\",\"*\")\n",
    "            self.end_headers()\n",
    "            self.wfile.write(e)\n",
    "\n",
    "\n",
    "if __name__ == '__main__':\n",
    "\n",
    "    endpoints = {   \"/\": endpoint(\"text/plain\",\"Hello world!\"),\n",
    "            \"/bye.html\": endpoint(\"text/html\",\"<html><body>Bye</body></html>\") \n",
    "    }\n",
    "\n",
    "    print repr(endpoints)\n",
    "\n",
    "    httpd = BaseHTTPServer.HTTPServer((\"\",PORT), REST)\n",
    "    try:\n",
    "        httpd.serve_forever()\n",
    "    except KeyboardInterrupt:\n",
    "        pass\n",
    "    httpd.server_close()\n"
   ]
  },
  {
   "cell_type": "code",
   "execution_count": 56,
   "id": "7cd6fa77",
   "metadata": {},
   "outputs": [
    {
     "ename": "SyntaxError",
     "evalue": "invalid syntax (860501546.py, line 1)",
     "output_type": "error",
     "traceback": [
      "\u001b[1;36m  Input \u001b[1;32mIn [56]\u001b[1;36m\u001b[0m\n\u001b[1;33m    $('#randomFive').click(function(){\u001b[0m\n\u001b[1;37m    ^\u001b[0m\n\u001b[1;31mSyntaxError\u001b[0m\u001b[1;31m:\u001b[0m invalid syntax\n"
     ]
    }
   ],
   "source": [
    "$('#randomFive').click(function(){\n",
    "    var arrNum = [];\n",
    "    var randTime = 5;\n",
    "    var numberRandom = 6;\n",
    "    var x = 0, i=0;\n",
    "    var listItem = [[],[],[],[],[]];\n",
    "    for(x=0;x<5;x++) {\n",
    "      arrNum= [];\n",
    "      for(i= 0; i<numberRandom; i++) {\n",
    "        randNum = Math.floor((Math.random() * 40) + 1);\n",
    "        arrNum.push(randNum);\n",
    "    }\n",
    "      listItem[x].push('<li>' + arrNum.join('+') + '</li>');\n",
    "    }\n",
    "    listItem.forEach(function(v){\n",
    "      $(\".calculate-result ul\").append(v);\n",
    "    });\n",
    "});"
   ]
  },
  {
   "cell_type": "code",
   "execution_count": 48,
   "id": "0a7b884c",
   "metadata": {},
   "outputs": [
    {
     "name": "stdout",
     "output_type": "stream",
     "text": [
      "[387, 393]\n"
     ]
    }
   ],
   "source": [
    "import random\n",
    "\n",
    "no = int ((2))\n",
    "startVolt = ((220))\n",
    "startCurrent = ((0))\n",
    "endVolt = ((360))\n",
    "endCurrent = ((50))\n",
    "\n",
    "#def randomNumberList(no, startVolt, startCurrent, endVolt, endCurrent):\n",
    "    \n",
    "def randomNumberList(no, start, end):\n",
    "    results = []\n",
    "    \n",
    "    for i in range(no):\n",
    "        temp = random.randint(start, end+1)\n",
    "        results.append(temp)\n",
    "    return results\n",
    "print(randomNumberList(no, start, end))"
   ]
  },
  {
   "cell_type": "code",
   "execution_count": 177,
   "id": "c5f158de",
   "metadata": {},
   "outputs": [
    {
     "data": {
      "text/plain": [
       "'{\"Tegangan AC\": [291], \"Tegangan DC\": [276], \"Arus AC\": [434], \"Arus DC\": [288]}'"
      ]
     },
     "execution_count": 177,
     "metadata": {},
     "output_type": "execute_result"
    }
   ],
   "source": [
    "import json\n",
    "from pymodbus.client.sync import ModbusTcpClient\n",
    "from datetime import datetime, time\n",
    "import random\n",
    "import time\n",
    "\n",
    "# https://www.youtube.com/watch?v=EjwgxlIEjuI\n",
    "sensorName = ['Tegangan AC', 'Tegangan DC', 'Arus AC', 'Arus DC']\n",
    "sensorValue = [[random.randint(220,440) for i in range (1)] for j in range(4)]\n",
    "merge2dict = {}\n",
    "for i, j in zip(sensorName, sensorValue):\n",
    "    merge2dict [i] = j\n",
    "data = merge2dict    \n",
    "jsonResult = json.dumps(data) # https://www.youtube.com/watch?v=9N6a-VLBa2I\n",
    "\n",
    "# host = '127.0.0.1'  #ip of your raspberry pi\n",
    "# port = 502\n",
    "# client = ModbusTcpClient(host, port)\n",
    "# while True:\n",
    "#     client.connect()\n",
    "\n",
    "#     wr = client.write_registers(1000,data,unit=1)\n",
    "#     time.sleep(2)\n",
    "jsonResult"
   ]
  },
  {
   "cell_type": "code",
   "execution_count": 30,
   "id": "d201b927",
   "metadata": {},
   "outputs": [
    {
     "data": {
      "text/plain": [
       "32"
      ]
     },
     "execution_count": 30,
     "metadata": {},
     "output_type": "execute_result"
    }
   ],
   "source": [
    "# from pymodbus.client.sync import ModbusTcpClient\n",
    "# from datetime import datetime, time\n",
    "import random\n",
    "# import time\n",
    "\n",
    "# host = '127.0.0.1'  #ip localhost\n",
    "# port = 502\n",
    "# client = ModbusTcpClient(host, port)\n",
    "# while True:\n",
    "#     client.connect()\n",
    "\n",
    "# To Write values to multiple registers\n",
    "list = []\n",
    "for i in range(10):\n",
    "    data = random.randint(25,35)\n",
    "    list.append(data)\n",
    "data\n",
    "\n",
    "# lists_master = []\n",
    "# for i in range(1):\n",
    "#     sub_list = []\n",
    "# for j in range(2):\n",
    "#     sub_list.append(random.randint(0, 1000))\n",
    "#     lists_master.append(sub_list)\n",
    "#     print(lists_master)\n",
    "\n"
   ]
  },
  {
   "cell_type": "code",
   "execution_count": 64,
   "id": "7ad1cc67",
   "metadata": {},
   "outputs": [
    {
     "name": "stdout",
     "output_type": "stream",
     "text": [
      "[[72]]\n",
      "[[72, 25], [72, 25]]\n"
     ]
    }
   ],
   "source": [
    "import random\n",
    "lists_master = []\n",
    "for i in range(1):\n",
    "    sub_list = []\n",
    "for j in range(2):\n",
    "    sub_list.append(random.randint(10, 100))\n",
    "    lists_master.append(sub_list)\n",
    "    print(lists_master)\n"
   ]
  },
  {
   "cell_type": "code",
   "execution_count": 1,
   "id": "bea7f5ea",
   "metadata": {},
   "outputs": [
    {
     "name": "stdout",
     "output_type": "stream",
     "text": [
      "30\n"
     ]
    }
   ],
   "source": [
    "import json\n",
    "\n",
    "# some JSON:\n",
    "x =  '{ \"name\":\"John\", \"age\":30, \"city\":\"New York\"}'\n",
    "\n",
    "# parse x:\n",
    "y = json.loads(x)\n",
    "\n",
    "# the result is a Python dictionary:\n",
    "print(y[\"age\"])"
   ]
  },
  {
   "cell_type": "code",
   "execution_count": 19,
   "id": "0026d5dd",
   "metadata": {},
   "outputs": [
    {
     "name": "stdout",
     "output_type": "stream",
     "text": [
      "35\n"
     ]
    }
   ],
   "source": [
    "import random\n",
    "from pymodbus.client.sync import ModbusTcpClient\n",
    "\n",
    "# host = '127.0.0.1'  #ip of your raspberry pi\n",
    "# port = 502\n",
    "# client = ModbusTcpClient(host, port)\n",
    "# while True:\n",
    "#     client.connect()\n",
    "#     data = random.randint(25,35)\n",
    "\n",
    "# To Write values to multiple registers\n",
    "list = [int (i) for i in range(4)]   \n",
    "data = random.randint(25,35)\n",
    "list.append(data)\n",
    "print(data)\n",
    "\n",
    "#     wr = client.write_registers(1000,data,unit=1)\n",
    "    # write to multiple registers using list of data\n",
    "#     wr = client.write_registers(1000,list,unit=1)\n",
    "#     time.sleep(1)\n"
   ]
  },
  {
   "cell_type": "code",
   "execution_count": 12,
   "id": "8a26d2bf",
   "metadata": {},
   "outputs": [],
   "source": [
    "# Random Number Generator\n",
    "import random"
   ]
  },
  {
   "cell_type": "code",
   "execution_count": 14,
   "id": "53cc0c78",
   "metadata": {},
   "outputs": [
    {
     "name": "stdout",
     "output_type": "stream",
     "text": [
      "[[538], [423], [853], [981]]\n"
     ]
    }
   ],
   "source": [
    "def create_multiple_lists(number, length):\n",
    "    lists_master = []\n",
    "    for i in range(number):\n",
    "        sub_list = []\n",
    "        for j in range(length):\n",
    "            sub_list.append(random.randint(0, 1000))\n",
    "        lists_master.append(sub_list)\n",
    "    print(lists_master)\n",
    "\n",
    "\n",
    "create_multiple_lists(4, 1)"
   ]
  },
  {
   "cell_type": "code",
   "execution_count": 5,
   "id": "eefcfa92",
   "metadata": {},
   "outputs": [],
   "source": [
    "# pymodbus server write\n",
    "from pymodbus.client.sync import ModbusTcpClient\n",
    "from datetime import datetime, time\n",
    "import random\n",
    "import time"
   ]
  },
  {
   "cell_type": "code",
   "execution_count": 114,
   "id": "db1883d7",
   "metadata": {},
   "outputs": [
    {
     "name": "stdout",
     "output_type": "stream",
     "text": [
      "25\n"
     ]
    }
   ],
   "source": [
    "from pymodbus.client.sync import ModbusTcpClient\n",
    "from datetime import datetime, time\n",
    "import random\n",
    "import time\n",
    "\n",
    "host = '127.0.0.1'  #ip of your raspberry pi\n",
    "port = 502\n",
    "client = ModbusTcpClient(host, port)\n",
    "while True:\n",
    "    client.connect()\n",
    "    data = random.randint(25,35)\n",
    "\n",
    "# To Write values to multiple registers\n",
    "    # list = []\n",
    "    # for i in range(10):\n",
    "    #     data = random.randint(25,35)\n",
    "    #     list.append(data)\n",
    "\n",
    "    wr = client.write_registers(1000,data,unit=1)\n",
    "    # write to multiple registers using list of data\n",
    "    # wr = client.write_registers(1000,list,unit=1)\n",
    "    time.sleep(5)"
   ]
  },
  {
   "cell_type": "code",
   "execution_count": null,
   "id": "e3837e7a",
   "metadata": {},
   "outputs": [],
   "source": []
  }
 ],
 "metadata": {
  "kernelspec": {
   "display_name": "Python 3 (ipykernel)",
   "language": "python",
   "name": "python3"
  },
  "language_info": {
   "codemirror_mode": {
    "name": "ipython",
    "version": 3
   },
   "file_extension": ".py",
   "mimetype": "text/x-python",
   "name": "python",
   "nbconvert_exporter": "python",
   "pygments_lexer": "ipython3",
   "version": "3.10.4"
  }
 },
 "nbformat": 4,
 "nbformat_minor": 5
}
